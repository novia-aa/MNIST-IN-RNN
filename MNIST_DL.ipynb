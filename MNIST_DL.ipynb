{
  "nbformat": 4,
  "nbformat_minor": 0,
  "metadata": {
    "colab": {
      "name": "MNIST_DL.ipynb",
      "provenance": [],
      "collapsed_sections": [],
      "authorship_tag": "ABX9TyPeeyPAgLHG+9Huy/Jl4EBY",
      "include_colab_link": true
    },
    "kernelspec": {
      "name": "python3",
      "display_name": "Python 3"
    },
    "language_info": {
      "name": "python"
    }
  },
  "cells": [
    {
      "cell_type": "markdown",
      "metadata": {
        "id": "view-in-github",
        "colab_type": "text"
      },
      "source": [
        "<a href=\"https://colab.research.google.com/github/novia-aa/MNIST-IN-RNN/blob/main/MNIST_DL.ipynb\" target=\"_parent\"><img src=\"https://colab.research.google.com/assets/colab-badge.svg\" alt=\"Open In Colab\"/></a>"
      ]
    },
    {
      "cell_type": "code",
      "execution_count": 4,
      "metadata": {
        "colab": {
          "base_uri": "https://localhost:8080/"
        },
        "id": "jU24_Bu5VcH9",
        "outputId": "dd411c90-0cd2-4476-fd58-cd1a0980d607"
      },
      "outputs": [
        {
          "output_type": "stream",
          "name": "stdout",
          "text": [
            "Looking in indexes: https://pypi.org/simple, https://us-python.pkg.dev/colab-wheels/public/simple/\n",
            "Requirement already satisfied: keras in /usr/local/lib/python3.7/dist-packages (2.8.0)\n"
          ]
        }
      ],
      "source": [
        "!pip install keras #install API\n",
        "from keras.datasets import mnist\n",
        "import numpy as np"
      ]
    },
    {
      "cell_type": "code",
      "source": [
        "# 匯入資料\n",
        "\n",
        "(x_train_image,y_train_label),(x_test_image,y_test_label)=mnist.load_data()\n",
        "print('train data= ',len(x_train_image))\n",
        "print('test data=', len(x_test_image))"
      ],
      "metadata": {
        "colab": {
          "base_uri": "https://localhost:8080/"
        },
        "id": "EHMYmr02Vzgm",
        "outputId": "99d45f1d-e28f-4eac-d9ee-697f940a811a"
      },
      "execution_count": 5,
      "outputs": [
        {
          "output_type": "stream",
          "name": "stdout",
          "text": [
            "Downloading data from https://storage.googleapis.com/tensorflow/tf-keras-datasets/mnist.npz\n",
            "11493376/11490434 [==============================] - 0s 0us/step\n",
            "11501568/11490434 [==============================] - 0s 0us/step\n",
            "train data=  60000\n",
            "test data= 10000\n"
          ]
        }
      ]
    },
    {
      "cell_type": "code",
      "source": [
        "import matplotlib.pyplot as plt \n",
        "\n",
        "# 建立函數要來畫多圖的\n",
        "def plot_images_labels_prediction(images,labels,prediction,idx,num=10): \n",
        "  \n",
        "  # 設定顯示圖形的大小\n",
        "  fig= plt.gcf() #得到當前的 figure\n",
        "  print(fig)\n",
        "  fig.set_size_inches(12,14)\n",
        "\n",
        "  # 最多25張\n",
        "  if num>25:num=25\n",
        "\n",
        "  # 一張一張畫\n",
        "  for i in range(0,num):\n",
        "\n",
        "    # 建立子圖形5*5(五行五列)\n",
        "    ax=plt.subplot(5,5,i+1)\n",
        "\n",
        "    # 畫出子圖形\n",
        "    ax.imshow(images[idx],cmap='binary')\n",
        "\n",
        "    # 標題和label\n",
        "    title=\"label=\" +str(labels[idx])\n",
        "\n",
        "    # 如果有傳入預測結果也顯示\n",
        "    if len(prediction)>0:\n",
        "      title+=\",predict=\"+str(prediction[idx])\n",
        "\n",
        "    # 設定子圖形的標題大小\n",
        "    ax.set_title(title,fontsize=10)\n",
        "\n",
        "    # 設定不顯示刻度\n",
        "    ax.set_xticks([])\n",
        "    ax.set_yticks([])  \n",
        "    idx+=1\n",
        "  plt.show()  \n",
        "  \n",
        "plot_images_labels_prediction(x_train_image,y_train_label,[],0,10)  "
      ],
      "metadata": {
        "colab": {
          "base_uri": "https://localhost:8080/",
          "height": 338
        },
        "id": "vuy6T0wDXf7a",
        "outputId": "97da5c3e-7de8-4fd4-9d05-d9f8d3e61dcc"
      },
      "execution_count": 8,
      "outputs": [
        {
          "output_type": "stream",
          "name": "stdout",
          "text": [
            "Figure(432x288)\n"
          ]
        },
        {
          "output_type": "display_data",
          "data": {
            "text/plain": [
              "<Figure size 864x1008 with 10 Axes>"
            ],
            "image/png": "[encoded data removed]"
          },
          "metadata": {}
        }
      ]
    },
    {
      "cell_type": "code",
      "source": [
        "# pre-processing\n",
        "# 所以要把二維的圖片矩陣先轉換成一維\n",
        "x_Train=x_train_image.reshape(60000,784).astype('float32')\n",
        "x_Test=x_test_image.reshape(10000,784).astype('float32')\n",
        "\n",
        "# 由於是圖片最大的是255，所以全部除以255\n",
        "x_Train_normalize=x_Train/255\n",
        "x_Test_normalize=x_Test/255\n",
        "from keras.utils import np_utils\n",
        "\n",
        "# 標註資料(一位有效編碼)--------------------------------------\n",
        "#1.能夠處理非連續型的分類變量。\n",
        "#2.在一定程度上也擴充了特徵，讓特徵之間更稀疏\n",
        "y_TrainOneHot=np_utils.to_categorical(y_train_label)\n",
        "y_TestOneHot=np_utils.to_categorical(y_test_label)\n",
        "\n"
      ],
      "metadata": {
        "id": "bSI2S57TY5HQ"
      },
      "execution_count": 11,
      "outputs": []
    },
    {
      "cell_type": "code",
      "source": [
        "\n",
        "from keras.models import Sequential\n",
        "from keras.layers import Dense\n",
        "from keras.layers import Dropout\n",
        "# 建立模型\n",
        "model = Sequential()\n",
        "# 建立輸入層和隱藏層\n",
        "model.add(Dense(units=256,input_dim=784,kernel_initializer='normal',activation='relu'))\n",
        "model.add(Dropout(0.5))\n",
        "# 定義隱藏層神經元個數256\n",
        "# 輸入為28*28=784 個float 數字\n",
        "# 使用 normal distribution 常態分布的亂數，初始化 weight權重 bias 偏差\n",
        "# 定義激活函數為 relu\n",
        "\n",
        "# 建立輸出層\n",
        "model.add(Dense(units=10,kernel_initializer='normal',activation='softmax'))\n",
        "# 定義輸出層為10個 (數字0~9)\n",
        "# 也是使用常態分佈初始化\n",
        "# 定義激活函數是 softmax\n",
        "# 這裡建立的Dense 層，不用設定 input dim ，因為keras 會自動照上一層的256設定\n",
        "\n"
      ],
      "metadata": {
        "colab": {
          "base_uri": "https://localhost:8080/"
        },
        "id": "_USivOppgPGd",
        "outputId": "d77972e2-087d-469b-aee9-7bc0337b8426"
      },
      "execution_count": 21,
      "outputs": [
        {
          "output_type": "stream",
          "name": "stdout",
          "text": [
            "Model: \"sequential_2\"\n",
            "_________________________________________________________________\n",
            " Layer (type)                Output Shape              Param #   \n",
            "=================================================================\n",
            " dense_3 (Dense)             (None, 256)               200960    \n",
            "                                                                 \n",
            " dropout (Dropout)           (None, 256)               0         \n",
            "                                                                 \n",
            " dense_4 (Dense)             (None, 10)                2570      \n",
            "                                                                 \n",
            "=================================================================\n",
            "Total params: 203,530\n",
            "Trainable params: 203,530\n",
            "Non-trainable params: 0\n",
            "_________________________________________________________________\n",
            "None\n"
          ]
        }
      ]
    },
    {
      "cell_type": "code",
      "source": [
        "model.compile(loss='categorical_crossentropy',optimizer='adam',metrics=['accuracy'])\n",
        "# 模型訓練之前要用 compele 對模型進行設定\n",
        "# loss 深度學習通常用 cross entropy 交叉嫡，訓練效果較好\n",
        "# optimizer 設定訓練時依優化的方法，在深度學習使用 adam 最優化方法，最快收斂提高準確度\n",
        "# metrics 設定評估模型的方式是 accuracy 準確率\n",
        "\n",
        "# 開始訓練\n",
        "\n",
        "train_history=model.fit(x=x_Train_normalize,y=y_TrainOneHot,\n",
        "            validation_split=0.2,epochs=15,batch_size=200,verbose=2)\n",
        "# x 是訓練資料\n",
        "# y 是label 資料\n",
        "# 設定參數 validation 切0.2起來驗證\n",
        "# epoch=x 是訓練週期為x\n",
        "# batch_size=x 每一批訓練x筆資料\n",
        "# verbose =2 顯示訓練過程\n",
        "\n",
        "# 所以以上的程式會執行x次\n",
        "# 每一次執行x筆資料 ，總共訓練資料原本有60000*0.8=48000\n",
        "# epoch 每一次訓練週期紀錄結果在 train_history 裡面"
      ],
      "metadata": {
        "colab": {
          "base_uri": "https://localhost:8080/"
        },
        "id": "VaEe4FgtiSvE",
        "outputId": "bdf57887-3784-4a0b-9f26-36d5d82b0b99"
      },
      "execution_count": 22,
      "outputs": [
        {
          "output_type": "stream",
          "name": "stdout",
          "text": [
            "Epoch 1/15\n",
            "240/240 - 2s - loss: 0.5351 - accuracy: 0.8485 - val_loss: 0.2304 - val_accuracy: 0.9377 - 2s/epoch - 10ms/step\n",
            "Epoch 2/15\n",
            "240/240 - 2s - loss: 0.2507 - accuracy: 0.9283 - val_loss: 0.1692 - val_accuracy: 0.9517 - 2s/epoch - 8ms/step\n",
            "Epoch 3/15\n",
            "240/240 - 2s - loss: 0.1947 - accuracy: 0.9432 - val_loss: 0.1357 - val_accuracy: 0.9612 - 2s/epoch - 8ms/step\n",
            "Epoch 4/15\n",
            "240/240 - 2s - loss: 0.1610 - accuracy: 0.9518 - val_loss: 0.1202 - val_accuracy: 0.9655 - 2s/epoch - 7ms/step\n",
            "Epoch 5/15\n",
            "240/240 - 2s - loss: 0.1403 - accuracy: 0.9582 - val_loss: 0.1114 - val_accuracy: 0.9689 - 2s/epoch - 8ms/step\n",
            "Epoch 6/15\n",
            "240/240 - 2s - loss: 0.1252 - accuracy: 0.9627 - val_loss: 0.1015 - val_accuracy: 0.9710 - 2s/epoch - 7ms/step\n",
            "Epoch 7/15\n",
            "240/240 - 2s - loss: 0.1165 - accuracy: 0.9666 - val_loss: 0.0945 - val_accuracy: 0.9726 - 2s/epoch - 7ms/step\n",
            "Epoch 8/15\n",
            "240/240 - 2s - loss: 0.1052 - accuracy: 0.9691 - val_loss: 0.0911 - val_accuracy: 0.9722 - 2s/epoch - 7ms/step\n",
            "Epoch 9/15\n",
            "240/240 - 2s - loss: 0.0945 - accuracy: 0.9710 - val_loss: 0.0847 - val_accuracy: 0.9756 - 2s/epoch - 7ms/step\n",
            "Epoch 10/15\n",
            "240/240 - 2s - loss: 0.0895 - accuracy: 0.9733 - val_loss: 0.0834 - val_accuracy: 0.9765 - 2s/epoch - 8ms/step\n",
            "Epoch 11/15\n",
            "240/240 - 2s - loss: 0.0842 - accuracy: 0.9744 - val_loss: 0.0834 - val_accuracy: 0.9767 - 2s/epoch - 8ms/step\n",
            "Epoch 12/15\n",
            "240/240 - 2s - loss: 0.0788 - accuracy: 0.9754 - val_loss: 0.0794 - val_accuracy: 0.9774 - 2s/epoch - 8ms/step\n",
            "Epoch 13/15\n",
            "240/240 - 2s - loss: 0.0731 - accuracy: 0.9772 - val_loss: 0.0799 - val_accuracy: 0.9775 - 2s/epoch - 8ms/step\n",
            "Epoch 14/15\n",
            "240/240 - 2s - loss: 0.0711 - accuracy: 0.9774 - val_loss: 0.0751 - val_accuracy: 0.9782 - 2s/epoch - 8ms/step\n",
            "Epoch 15/15\n",
            "240/240 - 2s - loss: 0.0648 - accuracy: 0.9793 - val_loss: 0.0752 - val_accuracy: 0.9786 - 2s/epoch - 8ms/step\n"
          ]
        }
      ]
    },
    {
      "cell_type": "code",
      "source": [
        "# 來把訓練過程畫出來\n",
        "\n",
        "\n",
        "def show_train_history(train_history,train,validation):\n",
        "\n",
        "  plt.plot(train_history.history[train])\n",
        "  plt.plot(train_history.history[validation])\n",
        "  plt.title('Train history')\n",
        "  plt.ylabel('train')\n",
        "  plt.xlabel('epoch')\n",
        "\n",
        "  # 設置圖例在左上角\n",
        "  plt.legend([train,validation],loc='upper left')\n",
        "  plt.show()\n",
        "\n",
        "show_train_history(train_history,'accuracy','val_accuracy')\n",
        "show_train_history(train_history,'loss','val_loss')"
      ],
      "metadata": {
        "colab": {
          "base_uri": "https://localhost:8080/",
          "height": 573
        },
        "id": "pK4RM-AKiqQ4",
        "outputId": "81f806e5-8662-4e64-d116-84d9e1f3d36e"
      },
      "execution_count": 23,
      "outputs": [
        {
          "output_type": "display_data",
          "data": {
            "text/plain": [
              "<Figure size 432x288 with 1 Axes>"
            ],
            "image/png": "[encoded data removed]"
          },
          "metadata": {
            "needs_background": "light"
          }
        },
        {
          "output_type": "display_data",
          "data": {
            "text/plain": [
              "<Figure size 432x288 with 1 Axes>"
            ],
            "image/png": "[encoded data removed]"
          },
          "metadata": {
            "needs_background": "light"
          }
        }
      ]
    }
  ]
}